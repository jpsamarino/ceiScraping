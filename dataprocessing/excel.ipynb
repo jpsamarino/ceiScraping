{
 "metadata": {
  "language_info": {
   "codemirror_mode": {
    "name": "ipython",
    "version": 3
   },
   "file_extension": ".py",
   "mimetype": "text/x-python",
   "name": "python",
   "nbconvert_exporter": "python",
   "pygments_lexer": "ipython3",
   "version": "3.8.6"
  },
  "orig_nbformat": 2,
  "kernelspec": {
   "name": "python386jvsc74a57bd02db524e06e9f5f4ffedc911c917cb75e12dbc923643829bf417064a77eb14d37",
   "display_name": "Python 3.8.6 64-bit"
  },
  "metadata": {
   "interpreter": {
    "hash": "2db524e06e9f5f4ffedc911c917cb75e12dbc923643829bf417064a77eb14d37"
   }
  }
 },
 "nbformat": 4,
 "nbformat_minor": 2,
 "cells": [
  {
   "cell_type": "code",
   "execution_count": 1,
   "metadata": {},
   "outputs": [],
   "source": [
    "from openpyxl import load_workbook"
   ]
  },
  {
   "cell_type": "code",
   "execution_count": 26,
   "metadata": {},
   "outputs": [],
   "source": [
    "dest = \"C:/Users/jpsamarino/OneDrive/Projetos JS/ceiScraping/teste.xlsx\"\n",
    "wb = load_workbook(filename = dest)\n"
   ]
  },
  {
   "cell_type": "code",
   "execution_count": 32,
   "metadata": {},
   "outputs": [
    {
     "output_type": "stream",
     "name": "stderr",
     "text": [
      "<ipython-input-32-e98c8df79fda>:2: DeprecationWarning: Call to deprecated function get_sheet_by_name (Use wb[sheetname]).\n  ws = wb.get_sheet_by_name(shests[0])\n"
     ]
    }
   ],
   "source": [
    "shests = wb.sheetnames\n",
    "ws = wb.get_sheet_by_name(shests[0])\n"
   ]
  },
  {
   "cell_type": "code",
   "execution_count": 28,
   "metadata": {},
   "outputs": [
    {
     "output_type": "stream",
     "name": "stdout",
     "text": [
      "teste de imput2\nteste de imput3\n"
     ]
    }
   ],
   "source": [
    "print(ws.cell(row=2,column=1).value)\n",
    "ws.cell(row=2,column=1).value = \"teste de imput3\"\n",
    "print(ws.cell(row=2,column=1).value)"
   ]
  },
  {
   "cell_type": "code",
   "execution_count": 29,
   "metadata": {},
   "outputs": [],
   "source": [
    "wb.save(dest)"
   ]
  },
  {
   "cell_type": "code",
   "execution_count": null,
   "metadata": {},
   "outputs": [],
   "source": []
  }
 ]
}